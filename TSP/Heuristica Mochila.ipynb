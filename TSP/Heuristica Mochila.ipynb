{
 "cells": [
  {
   "cell_type": "code",
   "execution_count": 1,
   "metadata": {},
   "outputs": [],
   "source": [
    "import pandas as pd\n",
    "import numpy as np\n"
   ]
  },
  {
   "cell_type": "code",
   "execution_count": 97,
   "metadata": {},
   "outputs": [
    {
     "name": "stdout",
     "output_type": "stream",
     "text": [
      "Ruta obtenida: [1, 2, 4, 6, 7, 5, 3, 1]\n",
      "Distancia total recorrida: 63\n"
     ]
    }
   ],
   "source": [
    "import pandas as pd\n",
    "\n",
    "# DataFrame de distancias proporcionado\n",
    "distances = pd.DataFrame({1: [999, 12, 10, 999, 999, 999, 12], \n",
    "                          2: [12, 999, 8, 12, 999, 999,99], \n",
    "                          3: [10, 8, 999, 11, 3, 999,9], \n",
    "                          4: [999, 12, 11, 999, 11, 10,999], \n",
    "                          5: [999, 999, 3, 11, 999, 6,7], \n",
    "                          6: [999, 999, 999, 10, 6, 999,9], \n",
    "                          7: [12, 999, 9 ,999,7,9,999]}, \n",
    "                         index=[1, 2, 3, 4, 5, 6, 7])\n",
    "\n",
    "def nearest_insertion_tsp(distances):\n",
    "    n = distances.shape[0]\n",
    "    route = [1]  # Iniciar en la ciudad 1\n",
    "    visited = set([1])\n",
    "    \n",
    "    # Encontrar la ciudad más cercana a la ciudad inicial y agregarla a la ruta\n",
    "    nearest_city = distances.loc[1].idxmin()\n",
    "    route.append(nearest_city)\n",
    "    visited.add(nearest_city)\n",
    "    \n",
    "    # Continuar agregando ciudades hasta que todas sean visitadas\n",
    "    while len(route) < n:\n",
    "        # Encontrar la ciudad más cercana no visitada\n",
    "        min_distance = float('inf')\n",
    "        insert_position = None\n",
    "        next_city = None\n",
    "        \n",
    "        for i in range(len(route) - 1):\n",
    "            for city in distances.index:\n",
    "                if city not in visited:\n",
    "                    distance = distances.at[route[i], city] + distances.at[city, route[i+1]] - distances.at[route[i], route[i+1]]\n",
    "                    if distance < min_distance:\n",
    "                        min_distance = distance\n",
    "                        next_city = city\n",
    "                        insert_position = i + 1\n",
    "        \n",
    "        # Insertar la ciudad más cercana en la posición adecuada para evitar subtours\n",
    "        route.insert(insert_position, next_city)\n",
    "        visited.add(next_city)\n",
    "    \n",
    "    route.append(1)  # Regresar a la ciudad de inicio\n",
    "    \n",
    "    return route\n",
    "\n",
    "def calculate_total_distance(route, distances):\n",
    "    total_distance = 0\n",
    "    for i in range(len(route) - 1):\n",
    "        total_distance += distances.at[route[i], route[i+1]]\n",
    "    return total_distance\n",
    "\n",
    "# Ejecutar el algoritmo\n",
    "route = nearest_insertion_tsp(distances)\n",
    "total_distance = calculate_total_distance(route, distances)\n",
    "\n",
    "print(\"Ruta obtenida:\", route)\n",
    "print(\"Distancia total recorrida:\", total_distance)\n"
   ]
  }
 ],
 "metadata": {
  "kernelspec": {
   "display_name": "myenv",
   "language": "python",
   "name": "python3"
  },
  "language_info": {
   "codemirror_mode": {
    "name": "ipython",
    "version": 3
   },
   "file_extension": ".py",
   "mimetype": "text/x-python",
   "name": "python",
   "nbconvert_exporter": "python",
   "pygments_lexer": "ipython3",
   "version": "3.11.9"
  }
 },
 "nbformat": 4,
 "nbformat_minor": 2
}
