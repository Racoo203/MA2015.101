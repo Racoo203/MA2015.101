{
 "cells": [
  {
   "cell_type": "code",
   "execution_count": null,
   "metadata": {},
   "outputs": [],
   "source": [
    "import random\n",
    "import numpy as np"
   ]
  },
  {
   "cell_type": "code",
   "execution_count": null,
   "metadata": {},
   "outputs": [],
   "source": [
    "weight = [61, 58, 92, 50, 108, 83, 93, 101, 54, 50, 72, 51, 100, 108, 91, 112, 66, 58, 110, 73]\n",
    "reward = [1100, 1147, 1442, 1591, 1078, 1385, 1777, 1196, 1753, 1371, 1517, 1675, 1193, 1177, 1365, 1143, 1314, 1526, 1470, 1605]\n",
    "mante_1 = [10, 9, 5]\n",
    "mante_2 = [9, 8, 3]\n",
    "mante_3 = [6, 4, 7]\n",
    "maq_1 = []"
   ]
  },
  {
   "cell_type": "code",
   "execution_count": null,
   "metadata": {},
   "outputs": [],
   "source": [
    "class Agent():\n",
    "    def __init__(self, num_genes=20):\n",
    "        self.chromosome = [bool(random.choice([0, 1])) for _ in range(num_genes)]\n",
    "        self.fitness = self.calc_fitness()\n",
    "        self.weight = self.calc_weight()\n",
    "        self.reward = self.calc_reward()\n",
    "        self.num_genes = num_genes\n",
    "    \n",
    "    def calc_weight(self):\n",
    "        return sum([self.chromosome[i] * weight[i] for i in range(self.num_genes)])\n",
    "    \n",
    "    def calc_reward(self):\n",
    "        return sum([self.chromosome[i] * reward[i] for i in range(self.num_genes)])\n",
    "    \n",
    "    def mutate(self):\n",
    "        ...\n",
    "\n",
    "    def calc_fitness(self):\n",
    "        max_weight = 800\n",
    "        total_penalty = 0\n",
    "\n",
    "        if self.weight > max_weight:\n",
    "            reward_per_weight = [reward_element / weight_element for reward_element, weight_element in zip(reward, weight)]\n",
    "            penalty_per_unit = np.mean(reward_per_weight)\n",
    "            total_penalty = (self.weight - max_weight) * penalty_per_unit\n",
    "\n",
    "        return reward - total_penalty"
   ]
  },
  {
   "cell_type": "code",
   "execution_count": null,
   "metadata": {},
   "outputs": [],
   "source": [
    "population_size = int(0.01 * len(weight)**20)\n",
    "population = [Agent(num_genes=20) for _ in range(population_size)]"
   ]
  },
  {
   "cell_type": "code",
   "execution_count": null,
   "metadata": {},
   "outputs": [],
   "source": [
    "def selection(population):\n",
    "    sortedpop = population.sort(key=lambda x: x.fitness)\n",
    "    return sortedpop[:int(0.5 * len(population))] #Cuanta poblacion se queda?\t\n",
    "\n",
    "def crossover(population):\n",
    "    offspring = []\n",
    "    for _ in range(len(population)):\n",
    "        parent1 = random.choice(population) #Reproducimos a los que sobran random?\n",
    "        parent2 = random.choice(population)\n",
    "        child1 = Agent()\n",
    "        child2 = Agent()\n",
    "        child.chromosome = parent1.chromosome[:10] + parent2.chromosome[10:] #Decidir de que manera se pasan los genes\n",
    "\n",
    "        child2.chromosome = parent2.chromosome[:10] + parent1.chromosome[10:] #Decidir de que manera se pasan los genes\n",
    "\n",
    "        offspring.append(child)1\n",
    "\n",
    "        offspring.append(child2)\n",
    "    return offspring    "
   ]
  }
 ],
 "metadata": {
  "language_info": {
   "name": "python"
  }
 },
 "nbformat": 4,
 "nbformat_minor": 2
}
