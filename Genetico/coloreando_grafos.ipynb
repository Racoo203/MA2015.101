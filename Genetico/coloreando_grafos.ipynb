{
  "cells": [
    {
      "cell_type": "markdown",
      "metadata": {
        "id": "xZR8yC5slA_p"
      },
      "source": [
        "Coloreado de Grafos"
      ]
    },
    {
      "cell_type": "code",
      "execution_count": 154,
      "metadata": {
        "id": "yk9BEUTbGM0a"
      },
      "outputs": [],
      "source": [
        "import random\n",
        "import pandas as pd\n",
        "import numpy as np"
      ]
    },
    {
      "cell_type": "code",
      "execution_count": 388,
      "metadata": {
        "colab": {
          "base_uri": "https://localhost:8080/"
        },
        "id": "8ZzllAZelAuZ",
        "outputId": "a0c07633-601f-47f8-f47a-2598cc941dc9"
      },
      "outputs": [],
      "source": [
        "import random\n",
        "import pandas as pd\n",
        "import numpy as np\n",
        "\n",
        "# Matriz\n",
        "E = [(1,2),(1,4),(1,16),\n",
        "    (2,1),(2,3),(2,4),(2,5),(2,6),(2,7),\n",
        "    (3,2),(3,7),(3,11),(3,19),\n",
        "    (4,1),(4,2),(4,5),(4,8),(4,9),\n",
        "    (5,2),(5,4),(5,6),(5,9),(5,10),\n",
        "    (6,2),(6,5),(6,7),(6,11),(6,14),\n",
        "    (7,2),(7,3),(7,6),(7,11),\n",
        "    (8,4),(8,9),(8,12),(8,16),\n",
        "    (9,4),(9,5),(9,8),(9,10),(9,12),(9,13),(9,15),\n",
        "    (10,5),(10,9),(10,13),(10,14),\n",
        "    (11,3),(11,6),(11,7),(11,14),(11,19),\n",
        "    (12,8),(12,9),(12,15),(12,16),\n",
        "    (13,9),(13,10),(13,14),(13,15),(13,17),(13,18),\n",
        "    (14,6),(14,10),(14,11),(14,13),(14,18),(14,19),\n",
        "    (15,9),(15,12),(15,13),(15,16),(15,17),\n",
        "    (16,1),(16,8),(16,12),(16,15),(16,17),\n",
        "    (17,13),(17,15),(17,16),(17,18),(17,19),\n",
        "    (18,13),(18,14),(18,17),(18,19),\n",
        "    (19,3),(19,11),(19,14),(19,17),(19,18)]\n",
        "\n",
        "df = np.zeros((19, 19))\n",
        "for row, col in E:\n",
        "    df[row-1, col-1] = 1\n",
        "df = pd.DataFrame(df, columns=range(1, 20), index=range(1, 20))\n",
        "df\n",
        "\n",
        "# Parámetros del algoritmo genético\n",
        "population_size = 50\n",
        "num_genes = 19\n",
        "max_generations = 70\n",
        "crossover_probability = 0.8\n",
        "mutation_probability = 0.1\n",
        "elitism = True #Criterio de reemplazo: Elitismo. Se mantiene al mejor individuo de la generación anterior en la nueva generación.\n",
        "\n",
        "class Agent:\n",
        "    def __init__(self, df, num_genes=19):\n",
        "        self.df = df\n",
        "        self.num_genes = num_genes\n",
        "        self.random_initialization()\n",
        "        self.fitness = self.calc_fitness()\n",
        "\n",
        "    def random_initialization(self):\n",
        "        #Criterio de inicialización: Genera un cromosoma aleatorio y asegura factibilidad.\n",
        "        self.chromosome = [random.choice([1,2,3,4,5,6,7,8,9,10,11,12,13,14,15,16,17,18,19]) for _ in range(self.num_genes)]\n",
        "        self.create_pairs()\n",
        "        while not self.check_factibility():\n",
        "            self.chromosome = [random.choice([1,2,3,4,5,6,7,8,9,10,11,12,13,14,15,16,17,18,19]) for _ in range(self.num_genes)]\n",
        "            self.create_pairs()\n",
        "\n",
        "    def check_factibility(self):\n",
        "        #Función de factibilidad: Verifica que dos nodos conectados no tengan el mismo valor.\n",
        "        for pair in self.pairs:\n",
        "            connections = self.df.loc[pair[0]][self.df.loc[pair[0]] == 1].index.tolist()\n",
        "            for connection in connections:\n",
        "                if pair[1] == self.pairs[connection-1][1]:\n",
        "                    return False\n",
        "                else:\n",
        "                    continue\n",
        "        return True\n",
        "                \n",
        "\n",
        "    def create_pairs(self):\n",
        "        #Create a list of position and value pairs\n",
        "        self.pairs = [[i+1, self.chromosome[i]] for i in range(len(self.chromosome))]\n",
        "\n",
        "\n",
        "\n",
        "    def calc_fitness(self):\n",
        "        #Función fitness: Revisa la cantidad de valores distintos en el cromosoma.\n",
        "        return -len(set(self.chromosome))\n",
        "        \n",
        "\n",
        "    def mutate(self):\n",
        "        #Mutación: Realiza una mutación en un gen del cromosoma.\n",
        "        idx = random.randint(0, self.num_genes - 1)\n",
        "        self.chromosome[idx] = random.randint(1,19)  # Cambio 0 a 1 o 1 a 0\n",
        "        while not self.check_factibility():\n",
        "            idx = random.randint(0, self.num_genes - 1)\n",
        "            self.chromosome[idx] = random.randint(1,19)\n",
        "        self.fitness = self.calc_fitness()\n",
        "\n",
        "    def crossover(self, partner):\n",
        "        #Cruce: Realiza un cruce de un punto entre dos cromosomas.\n",
        "        if random.random() < crossover_probability:\n",
        "            crossover_point = random.randint(1, self.num_genes - 2)\n",
        "            child1_chromosome = self.chromosome[:crossover_point] + partner.chromosome[crossover_point:]\n",
        "            child2_chromosome = partner.chromosome[:crossover_point] + self.chromosome[crossover_point:]\n",
        "\n",
        "            child1 = Agent(self.df, self.num_genes)\n",
        "            child2 = Agent(self.df, self.num_genes)\n",
        "            child1.chromosome = child1_chromosome\n",
        "            child2.chromosome = child2_chromosome\n",
        "\n",
        "            if child1.check_factibility():\n",
        "                child1.fitness = child1.calc_fitness()\n",
        "            if child2.check_factibility():\n",
        "                child2.fitness = child2.calc_fitness()\n",
        "\n",
        "            return child1, child2\n",
        "        else:\n",
        "            return self, partner\n",
        "\n",
        "def selection(population):\n",
        "    #Criterio de selección: Selección por torneo.\n",
        "    selected = []\n",
        "    for _ in range(len(population)):\n",
        "        ind1 = random.choice(population)\n",
        "        ind2 = random.choice(population)\n",
        "        selected.append(ind1 if ind1.fitness > ind2.fitness else ind2)\n",
        "    return selected\n",
        "\n",
        "def replacement(old_population, new_population):\n",
        "    #Criterio de reemplazo: Elitismo.\n",
        "    if elitism:\n",
        "        combined = old_population + new_population\n",
        "        combined.sort(key=lambda x: x.fitness, reverse=True)\n",
        "        return combined[:population_size]\n",
        "    else:\n",
        "        return new_population\n",
        "\n"
      ]
    },
    {
      "cell_type": "code",
      "execution_count": 379,
      "metadata": {},
      "outputs": [
        {
          "name": "stdout",
          "output_type": "stream",
          "text": [
            "[2, 5, 17, 1, 12, 4, 8, 16, 6, 3, 1, 9, 16, 5, 10, 5, 18, 13, 3]\n"
          ]
        }
      ],
      "source": [
        "#Esto checa si en serio si las soluciones son factibles :)\n",
        "yo = Agent(df)\n",
        "print(yo.chromosome)\n",
        "#Add those values in a list\n",
        "for pair in yo.pairs:\n",
        "    connections = df.loc[pair[0]][df.loc[pair[0]] == 1].index.tolist()\n",
        "    for connection in connections:\n",
        "        if pair[1] == yo.pairs[connection-1][1]:\n",
        "            print('Repeated color:', pair[0], connection)\n",
        "            print('Color:', pair[1])\n",
        "    "
      ]
    },
    {
      "cell_type": "code",
      "execution_count": 380,
      "metadata": {},
      "outputs": [
        {
          "name": "stdout",
          "output_type": "stream",
          "text": [
            "14\n"
          ]
        }
      ],
      "source": [
        "#Get unique values from the chromosome\n",
        "unique = []\n",
        "for i in yo.chromosome:\n",
        "    if i not in unique:\n",
        "        unique.append(i)\n",
        "print(len(unique))"
      ]
    },
    {
      "cell_type": "code",
      "execution_count": 384,
      "metadata": {},
      "outputs": [
        {
          "data": {
            "text/plain": [
              "-14"
            ]
          },
          "execution_count": 384,
          "metadata": {},
          "output_type": "execute_result"
        }
      ],
      "source": [
        "yo.fitness"
      ]
    },
    {
      "cell_type": "code",
      "execution_count": 389,
      "metadata": {},
      "outputs": [
        {
          "name": "stdout",
          "output_type": "stream",
          "text": [
            "Generation 0: Best Fitness: -9\n",
            "Generation 1: Best Fitness: -9\n",
            "Generation 2: Best Fitness: -9\n",
            "Generation 3: Best Fitness: -9\n",
            "Generation 4: Best Fitness: -9\n",
            "Generation 5: Best Fitness: -8\n",
            "Generation 6: Best Fitness: -8\n",
            "Generation 7: Best Fitness: -8\n",
            "Generation 8: Best Fitness: -8\n",
            "Generation 9: Best Fitness: -8\n",
            "Generation 10: Best Fitness: -8\n",
            "Generation 11: Best Fitness: -8\n",
            "Generation 12: Best Fitness: -8\n",
            "Generation 13: Best Fitness: -8\n",
            "Generation 14: Best Fitness: -8\n",
            "Generation 15: Best Fitness: -7\n",
            "Generation 16: Best Fitness: -7\n",
            "Generation 17: Best Fitness: -7\n",
            "Generation 18: Best Fitness: -7\n",
            "Generation 19: Best Fitness: -7\n",
            "Generation 20: Best Fitness: -7\n",
            "Generation 21: Best Fitness: -7\n",
            "Generation 22: Best Fitness: -7\n",
            "Generation 23: Best Fitness: -7\n",
            "Generation 24: Best Fitness: -7\n",
            "Generation 25: Best Fitness: -7\n",
            "Generation 26: Best Fitness: -7\n",
            "Generation 27: Best Fitness: -7\n",
            "Generation 28: Best Fitness: -6\n",
            "Generation 29: Best Fitness: -6\n",
            "Generation 30: Best Fitness: -6\n",
            "Generation 31: Best Fitness: -6\n",
            "Generation 32: Best Fitness: -6\n",
            "Generation 33: Best Fitness: -6\n",
            "Generation 34: Best Fitness: -6\n",
            "Generation 35: Best Fitness: -6\n",
            "Generation 36: Best Fitness: -6\n",
            "Generation 37: Best Fitness: -6\n",
            "Generation 38: Best Fitness: -6\n",
            "Generation 39: Best Fitness: -6\n",
            "Generation 40: Best Fitness: -6\n",
            "Generation 41: Best Fitness: -6\n",
            "Generation 42: Best Fitness: -6\n",
            "Generation 43: Best Fitness: -6\n",
            "Generation 44: Best Fitness: -6\n",
            "Generation 45: Best Fitness: -6\n",
            "Generation 46: Best Fitness: -6\n",
            "Generation 47: Best Fitness: -6\n",
            "Generation 48: Best Fitness: -6\n",
            "Generation 49: Best Fitness: -6\n",
            "Generation 50: Best Fitness: -6\n",
            "Generation 51: Best Fitness: -6\n",
            "Generation 52: Best Fitness: -6\n",
            "Generation 53: Best Fitness: -6\n",
            "Generation 54: Best Fitness: -6\n",
            "Generation 55: Best Fitness: -6\n",
            "Generation 56: Best Fitness: -6\n",
            "Generation 57: Best Fitness: -6\n",
            "Generation 58: Best Fitness: -6\n",
            "Generation 59: Best Fitness: -6\n",
            "Generation 60: Best Fitness: -6\n",
            "Generation 61: Best Fitness: -6\n",
            "Generation 62: Best Fitness: -6\n",
            "Generation 63: Best Fitness: -6\n",
            "Generation 64: Best Fitness: -6\n",
            "Generation 65: Best Fitness: -6\n",
            "Generation 66: Best Fitness: -6\n",
            "Generation 67: Best Fitness: -6\n",
            "Generation 68: Best Fitness: -6\n",
            "Generation 69: Best Fitness: -6\n",
            "Minimun number of colors:\n",
            "Colors: 6\n",
            "Chromosome: [1, 8, 1, 14, 14, 1, 8, 10, 15, 10, 5, 15, 15, 15, 15, 8, 5, 1, 8]\n"
          ]
        }
      ],
      "source": [
        "# Inicializar población\n",
        "population = [Agent(df, num_genes) for _ in range(population_size)]\n",
        "\n",
        "# Algoritmo Genético\n",
        "for generation in range(max_generations):\n",
        "    new_population = []\n",
        "\n",
        "    selected = selection(population)\n",
        "\n",
        "    # Cruce\n",
        "    for i in range(0, population_size, 2):\n",
        "        parent1 = selected[i]\n",
        "        parent2 = selected[i + 1]\n",
        "        child1, child2 = parent1.crossover(parent2)\n",
        "        new_population.extend([child1, child2])\n",
        "\n",
        "    # Mutación\n",
        "    for individual in new_population:\n",
        "        if random.random() < mutation_probability:\n",
        "            individual.mutate()\n",
        "\n",
        "    # Reemplazo\n",
        "    population = replacement(population, new_population)\n",
        "\n",
        "    # Criterio de paro: Si se llega al número máximo de generaciones\n",
        "    best_fitness = max([agent.fitness for agent in population])\n",
        "    print(f\"Generation {generation}: Best Fitness: {best_fitness}\")\n",
        "\n",
        "# Resultado final\n",
        "best_agent = max(population, key=lambda x: x.fitness)\n",
        "print(\"Minimun number of colors:\")\n",
        "print(\"Colors:\" , -best_fitness)\n",
        "print(\"Chromosome:\", best_agent.chromosome)"
      ]
    }
  ],
  "metadata": {
    "colab": {
      "provenance": []
    },
    "kernelspec": {
      "display_name": "ML",
      "language": "python",
      "name": "python3"
    },
    "language_info": {
      "codemirror_mode": {
        "name": "ipython",
        "version": 3
      },
      "file_extension": ".py",
      "mimetype": "text/x-python",
      "name": "python",
      "nbconvert_exporter": "python",
      "pygments_lexer": "ipython3",
      "version": "3.11.9"
    }
  },
  "nbformat": 4,
  "nbformat_minor": 0
}
