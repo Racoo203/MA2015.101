{
 "cells": [
  {
   "cell_type": "code",
   "execution_count": null,
   "metadata": {},
   "outputs": [],
   "source": [
    "import random\n",
    "import pandas as pd\n",
    "import numpy as np"
   ]
  },
  {
   "cell_type": "code",
   "execution_count": null,
   "metadata": {},
   "outputs": [],
   "source": [
    "E = [(1,2),(1,9),(1,14),(2,3),(2,5),(3,4),(3,5),(3,6),(3,7),(4,6),(5,7),(5,9),(5,10),(6,7),(6,8),(7,8),(7,11),(8,11),(9,10),(9,13),(9,14),(10,11),(10,12),(12,16),(13,15),(13,16),(14,15),(15,16),\n",
    "    (2,1),(9,1),(14,1),(3,2),(5,2),(4,3),(5,3),(6,3),(7,3),(6,4),(7,5),(9,5),(10,5),(7,6),(8,6),(8,7),(11,7),(11,8),(10,9),(13,9),(14,9),(11,10),(12,10),(16,12),(15,13),(16,13),(15,14),(16,15)]\n",
    "df = np.zeros((16, 16))\n",
    "for row, col in E:\n",
    "    df[row-1, col-1] = 1\n",
    "df = pd.DataFrame(df, columns=range(1, 17), index=range(1, 17))\n",
    "df"
   ]
  },
  {
   "cell_type": "code",
   "execution_count": 134,
   "metadata": {},
   "outputs": [],
   "source": [
    "class Agent():\n",
    "    def __init__(self, df, num_genes=16):\n",
    "        self.num_genes = num_genes\n",
    "        self.chromosome = [bool(random.choice([0, 1])) for _ in range(num_genes)]\n",
    "        self.fitness = self.calc_fitness()\n",
    "        self.create_groups()\n",
    "        self.connections = 0\n",
    "        self.reward = self.calc_reward()\n",
    "    \n",
    "    def create_groups(self):\n",
    "        group1 = [i for i in range(self.num_genes) if self.chromosome[i] == 1]\n",
    "        group2 = [i for i in range(self.num_genes) if self.chromosome[i] == 0]\n",
    "        self.group1 = group1\n",
    "        self.group2 = group2\n",
    "    \n",
    "    def calc_connections(self, group1, group2):\n",
    "        inter_group_edges = [edge for edge in E if (edge[0] in group1 and edge[1] in group2) or (edge[0] in group2 and edge[1] in group1)]\n",
    "        print(inter_group_edges)\n",
    "        return len(inter_group_edges)\n",
    "    \n",
    "    def check_factible(self):\n",
    "        ...\n",
    "    def calc_reward(self):\n",
    "        ...\n",
    "    \n",
    "    def mutate(self):\n",
    "        ...\n",
    "\n",
    "    def calc_fitness(self):\n",
    "        ..."
   ]
  },
  {
   "cell_type": "code",
   "execution_count": 135,
   "metadata": {},
   "outputs": [],
   "source": [
    "E = [(1,2),(1,9),(1,14),(2,3),(2,5),[3,4],[3,5],\n",
    "    [3,6],[3,7],[4,6],[5,7],[5,9],[5,10],[6,7],\n",
    "    [6,8],[7,8],[7,11],[18,11],[9,10],[9,13], [9,14], [10,11],[10,12],[12,16],[13,15],[13,16],\n",
    "    [14,15],[15,16]]\n",
    "\n",
    "yo = Agent(df)\n"
   ]
  },
  {
   "cell_type": "code",
   "execution_count": 140,
   "metadata": {},
   "outputs": [
    {
     "data": {
      "text/plain": [
       "([0, 1, 3, 5, 7, 8, 9, 13, 14], [2, 4, 6, 10, 11, 12, 15])"
      ]
     },
     "execution_count": 140,
     "metadata": {},
     "output_type": "execute_result"
    }
   ],
   "source": [
    "yo.group1, yo.group2"
   ]
  },
  {
   "cell_type": "code",
   "execution_count": 130,
   "metadata": {},
   "outputs": [
    {
     "data": {
      "text/plain": [
       "[8, 9, 10, 11, 12, 13, 14, 15]"
      ]
     },
     "execution_count": 130,
     "metadata": {},
     "output_type": "execute_result"
    }
   ],
   "source": [
    "yo.group1"
   ]
  },
  {
   "cell_type": "code",
   "execution_count": 106,
   "metadata": {},
   "outputs": [
    {
     "name": "stdout",
     "output_type": "stream",
     "text": [
      "[[9, 10], [9, 13], [9, 14], [10, 11], [10, 12], [13, 15], [14, 15]]\n",
      "7\n"
     ]
    }
   ],
   "source": [
    "yo.chromosome = [0,0,0,0,0,0,0,0,1,1,1,1,1,1,1,1]\n",
    "yo.create_groups()\n",
    "print(yo.calc_connections(yo.group1, yo.group1))"
   ]
  },
  {
   "cell_type": "code",
   "execution_count": 109,
   "metadata": {},
   "outputs": [
    {
     "data": {
      "text/plain": [
       "[8, 9, 10, 11, 12, 13, 14, 15]"
      ]
     },
     "execution_count": 109,
     "metadata": {},
     "output_type": "execute_result"
    }
   ],
   "source": [
    "yo.group1"
   ]
  },
  {
   "cell_type": "code",
   "execution_count": 105,
   "metadata": {},
   "outputs": [
    {
     "data": {
      "text/plain": [
       "[0, 0, 0, 0, 0, 0, 0, 0, 1, 1, 1, 1, 1, 1, 1, 1]"
      ]
     },
     "execution_count": 105,
     "metadata": {},
     "output_type": "execute_result"
    }
   ],
   "source": [
    "yo.chromosome"
   ]
  }
 ],
 "metadata": {
  "kernelspec": {
   "display_name": "ML",
   "language": "python",
   "name": "python3"
  },
  "language_info": {
   "codemirror_mode": {
    "name": "ipython",
    "version": 3
   },
   "file_extension": ".py",
   "mimetype": "text/x-python",
   "name": "python",
   "nbconvert_exporter": "python",
   "pygments_lexer": "ipython3",
   "version": "3.10.13"
  }
 },
 "nbformat": 4,
 "nbformat_minor": 2
}
