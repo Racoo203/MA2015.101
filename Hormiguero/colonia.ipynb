{
 "cells": [
  {
   "cell_type": "markdown",
   "metadata": {},
   "source": [
    "RentCar está desarrollando una política de reemplazo para su flotilla de automóviles en\n",
    "un horizonte de planeaci ́on de 4 años. Al inicio de cada a ̃no, un automóvil se reemplaza o\n",
    "se conserva en operación durante un año más. Un automóvil debe estar en servicio de 1 a 3\n",
    "años. La siguiente tabla proporciona el costo de reemplazo como una función del año en que\n",
    "se adquiere un automóvil y los años en operación."
   ]
  },
  {
   "cell_type": "code",
   "execution_count": 25,
   "metadata": {},
   "outputs": [],
   "source": [
    "import pandas as pd\n",
    "import numpy as np"
   ]
  },
  {
   "cell_type": "code",
   "execution_count": 35,
   "metadata": {},
   "outputs": [
    {
     "data": {
      "text/html": [
       "<div>\n",
       "<style scoped>\n",
       "    .dataframe tbody tr th:only-of-type {\n",
       "        vertical-align: middle;\n",
       "    }\n",
       "\n",
       "    .dataframe tbody tr th {\n",
       "        vertical-align: top;\n",
       "    }\n",
       "\n",
       "    .dataframe thead th {\n",
       "        text-align: right;\n",
       "    }\n",
       "</style>\n",
       "<table border=\"1\" class=\"dataframe\">\n",
       "  <thead>\n",
       "    <tr style=\"text-align: right;\">\n",
       "      <th></th>\n",
       "      <th>start_year</th>\n",
       "      <th>end_year</th>\n",
       "      <th>cost</th>\n",
       "    </tr>\n",
       "  </thead>\n",
       "  <tbody>\n",
       "    <tr>\n",
       "      <th>0</th>\n",
       "      <td>0</td>\n",
       "      <td>1</td>\n",
       "      <td>4000</td>\n",
       "    </tr>\n",
       "    <tr>\n",
       "      <th>1</th>\n",
       "      <td>0</td>\n",
       "      <td>2</td>\n",
       "      <td>5400</td>\n",
       "    </tr>\n",
       "    <tr>\n",
       "      <th>2</th>\n",
       "      <td>0</td>\n",
       "      <td>3</td>\n",
       "      <td>9800</td>\n",
       "    </tr>\n",
       "    <tr>\n",
       "      <th>3</th>\n",
       "      <td>1</td>\n",
       "      <td>2</td>\n",
       "      <td>4300</td>\n",
       "    </tr>\n",
       "    <tr>\n",
       "      <th>4</th>\n",
       "      <td>1</td>\n",
       "      <td>3</td>\n",
       "      <td>6200</td>\n",
       "    </tr>\n",
       "    <tr>\n",
       "      <th>5</th>\n",
       "      <td>1</td>\n",
       "      <td>4</td>\n",
       "      <td>8700</td>\n",
       "    </tr>\n",
       "    <tr>\n",
       "      <th>6</th>\n",
       "      <td>2</td>\n",
       "      <td>3</td>\n",
       "      <td>4800</td>\n",
       "    </tr>\n",
       "    <tr>\n",
       "      <th>7</th>\n",
       "      <td>2</td>\n",
       "      <td>4</td>\n",
       "      <td>71000</td>\n",
       "    </tr>\n",
       "    <tr>\n",
       "      <th>8</th>\n",
       "      <td>3</td>\n",
       "      <td>4</td>\n",
       "      <td>4900</td>\n",
       "    </tr>\n",
       "  </tbody>\n",
       "</table>\n",
       "</div>"
      ],
      "text/plain": [
       "   start_year  end_year   cost\n",
       "0           0         1   4000\n",
       "1           0         2   5400\n",
       "2           0         3   9800\n",
       "3           1         2   4300\n",
       "4           1         3   6200\n",
       "5           1         4   8700\n",
       "6           2         3   4800\n",
       "7           2         4  71000\n",
       "8           3         4   4900"
      ]
     },
     "execution_count": 35,
     "metadata": {},
     "output_type": "execute_result"
    }
   ],
   "source": [
    "costs = {0: [4000, 5400, 9800], 1: [4300, 6200, 8700], 2: [4800, 71000, np.nan], 3: [4900, np.nan, np.nan]}\n",
    "columns = [1, 2, 3]\n",
    "\n",
    "actions = [\n",
    "    (start_year, start_year + columns[end_year], cost)\n",
    "    for start_year, cost_list in costs.items()\n",
    "    for end_year, cost in enumerate(cost_list)\n",
    "    if not pd.isnull(cost)\n",
    "]\n",
    "\n",
    "pd.DataFrame(actions, columns=['start_year', 'end_year', 'cost'])\n"
   ]
  },
  {
   "cell_type": "code",
   "execution_count": 27,
   "metadata": {},
   "outputs": [],
   "source": [
    "n_ants = 10  # Número de hormigas\n",
    "n_iterations = 100  # Número de iteraciones\n",
    "alpha = 1.0  # Importancia de las feromonas\n",
    "beta = 1.0  # Importancia de la heurística\n",
    "evaporation_rate = 0.5  # Tasa de evaporación de las feromonas\n",
    "pheromone_init = 0.1  # Valor inicial de feromonas"
   ]
  }
 ],
 "metadata": {
  "kernelspec": {
   "display_name": "ML",
   "language": "python",
   "name": "python3"
  },
  "language_info": {
   "codemirror_mode": {
    "name": "ipython",
    "version": 3
   },
   "file_extension": ".py",
   "mimetype": "text/x-python",
   "name": "python",
   "nbconvert_exporter": "python",
   "pygments_lexer": "ipython3",
   "version": "3.12.2"
  }
 },
 "nbformat": 4,
 "nbformat_minor": 2
}
